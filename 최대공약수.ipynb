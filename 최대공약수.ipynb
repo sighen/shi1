{
 "cells": [
  {
   "cell_type": "code",
   "execution_count": 28,
   "id": "5924677b",
   "metadata": {},
   "outputs": [
    {
     "name": "stdout",
     "output_type": "stream",
     "text": [
      "3\n",
      "4\n",
      "6\n"
     ]
    }
   ],
   "source": [
    "def gcd(x,y):\n",
    "    if x<y:\n",
    "        m=x\n",
    "    else:\n",
    "        m=y\n",
    "    for i in range(m,0,-1):\n",
    "        if x%i==0 and y%i==0:\n",
    "            result = i\n",
    "            break\n",
    "    return result\n",
    "\n",
    "print(gcd(3,6))\n",
    "print(gcd(8,12))\n",
    "print(gcd(18,12))"
   ]
  },
  {
   "cell_type": "code",
   "execution_count": null,
   "id": "068c98a6",
   "metadata": {},
   "outputs": [],
   "source": []
  }
 ],
 "metadata": {
  "kernelspec": {
   "display_name": "Python 3 (ipykernel)",
   "language": "python",
   "name": "python3"
  },
  "language_info": {
   "codemirror_mode": {
    "name": "ipython",
    "version": 3
   },
   "file_extension": ".py",
   "mimetype": "text/x-python",
   "name": "python",
   "nbconvert_exporter": "python",
   "pygments_lexer": "ipython3",
   "version": "3.9.7"
  }
 },
 "nbformat": 4,
 "nbformat_minor": 5
}
