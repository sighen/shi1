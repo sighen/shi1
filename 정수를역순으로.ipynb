{
 "cells": [
  {
   "cell_type": "code",
   "execution_count": null,
   "id": "b6130f5d",
   "metadata": {},
   "outputs": [],
   "source": [
    "def print_reverse(num):\n",
    "    if num<=0:\n",
    "        return\n",
    "    print(num%10,end=\"\")\n",
    "    print_reverse(num//10)\n",
    "    \n",
    "print(print_reverse(234))\n",
    "    "
   ]
  }
 ],
 "metadata": {
  "kernelspec": {
   "display_name": "Python 3 (ipykernel)",
   "language": "python",
   "name": "python3"
  },
  "language_info": {
   "codemirror_mode": {
    "name": "ipython",
    "version": 3
   },
   "file_extension": ".py",
   "mimetype": "text/x-python",
   "name": "python",
   "nbconvert_exporter": "python",
   "pygments_lexer": "ipython3",
   "version": "3.9.7"
  }
 },
 "nbformat": 4,
 "nbformat_minor": 5
}
