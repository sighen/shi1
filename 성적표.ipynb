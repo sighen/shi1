{
 "cells": [
  {
   "cell_type": "code",
   "execution_count": null,
   "id": "203b26eb",
   "metadata": {},
   "outputs": [],
   "source": [
    "print (\"철수 성적 입력\")\n",
    "a_scores = []\n",
    "\n",
    "aa = input(\"국어 점수\")\n",
    "a_scores.append(int(aa))\n",
    "aa = input(\"영어 점수\")\n",
    "a_scores.append(int(aa))\n",
    "aa = input(\"수학 점수\")\n",
    "a_scores.append(int(aa))\n",
    "\n",
    "b_scores.append(int(aa))\n",
    "aa = input(\"국어 점수\")\n",
    "a_scores.append(int(aa))\n",
    "aa = input(\"영어 점수\")\n",
    "b_scores.append(int(aa))\n",
    "aa = input(\"수학 점수\")\n",
    "b_scores.append(int(aa))\n",
    "\n",
    "print(\"지용 성적 입력\")\n",
    "c_scores = []\n",
    "aa= input(\"국어 점수\")\n",
    "c_scores.append(int(aa))\n",
    "aa = input(\"영어 점수\")\n",
    "c_scores.append(int(aa))\n",
    "aa = input(\"수학 점수\")\n",
    "c_scores.append(int(aa))\n",
    "\n",
    "\n",
    "print(f\"철수 {a_scores[0]} {a_scores[1]} {c_scores[2]} 총점: {sum(c_scores)} 평균: {sum(c_scores)/3:0.1f}\")\n",
    "\n",
    "all_scores = []\n",
    "all_scores.append(a_scores)\n",
    "all_scores.append(b_scores)\n",
    "all_scores.append(c_scores)"
   ]
  }
 ],
 "metadata": {
  "kernelspec": {
   "display_name": "Python 3 (ipykernel)",
   "language": "python",
   "name": "python3"
  },
  "language_info": {
   "codemirror_mode": {
    "name": "ipython",
    "version": 3
   },
   "file_extension": ".py",
   "mimetype": "text/x-python",
   "name": "python",
   "nbconvert_exporter": "python",
   "pygments_lexer": "ipython3",
   "version": "3.9.7"
  }
 },
 "nbformat": 4,
 "nbformat_minor": 5
}
