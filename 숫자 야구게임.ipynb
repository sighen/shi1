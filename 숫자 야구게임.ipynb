{
 "cells": [
  {
   "cell_type": "code",
   "execution_count": 5,
   "id": "af4de005",
   "metadata": {},
   "outputs": [
    {
     "name": "stdout",
     "output_type": "stream",
     "text": [
      "Play game? (y/n)y\n",
      "**BASEBALL GAME ... ROUND : {game_step}\n",
      "1st number:1\n",
      "2nd number:2\n",
      "3rd number:3\n"
     ]
    },
    {
     "ename": "UnboundLocalError",
     "evalue": "local variable 'ball_num' referenced before assignment",
     "output_type": "error",
     "traceback": [
      "\u001b[0;31m---------------------------------------------------------------------------\u001b[0m",
      "\u001b[0;31mUnboundLocalError\u001b[0m                         Traceback (most recent call last)",
      "\u001b[0;32m/var/folders/b_/jzd6dj4x395ckvhxmp7dbtkc0000gn/T/ipykernel_36875/2857116457.py\u001b[0m in \u001b[0;36m<module>\u001b[0;34m\u001b[0m\n\u001b[1;32m     44\u001b[0m         \u001b[0min_2\u001b[0m \u001b[0;34m=\u001b[0m \u001b[0mint\u001b[0m\u001b[0;34m(\u001b[0m\u001b[0min_2\u001b[0m\u001b[0;34m)\u001b[0m\u001b[0;34m\u001b[0m\u001b[0;34m\u001b[0m\u001b[0m\n\u001b[1;32m     45\u001b[0m         \u001b[0min_3\u001b[0m \u001b[0;34m=\u001b[0m \u001b[0mint\u001b[0m\u001b[0;34m(\u001b[0m\u001b[0min_3\u001b[0m\u001b[0;34m)\u001b[0m\u001b[0;34m\u001b[0m\u001b[0;34m\u001b[0m\u001b[0m\n\u001b[0;32m---> 46\u001b[0;31m         \u001b[0mstrike_num\u001b[0m\u001b[0;34m,\u001b[0m \u001b[0mball_num\u001b[0m \u001b[0;34m=\u001b[0m \u001b[0mcheck_num\u001b[0m\u001b[0;34m(\u001b[0m\u001b[0min_1\u001b[0m\u001b[0;34m,\u001b[0m\u001b[0min_2\u001b[0m\u001b[0;34m,\u001b[0m\u001b[0min_3\u001b[0m\u001b[0;34m)\u001b[0m\u001b[0;34m\u001b[0m\u001b[0;34m\u001b[0m\u001b[0m\n\u001b[0m\u001b[1;32m     47\u001b[0m         \u001b[0mprint\u001b[0m\u001b[0;34m(\u001b[0m\u001b[0;34m\"COMPUTER: \"\u001b[0m\u001b[0;34m)\u001b[0m\u001b[0;34m\u001b[0m\u001b[0;34m\u001b[0m\u001b[0m\n\u001b[1;32m     48\u001b[0m         \u001b[0;32mif\u001b[0m \u001b[0;34m(\u001b[0m\u001b[0mstrike_num\u001b[0m \u001b[0;34m==\u001b[0m \u001b[0;36m0\u001b[0m\u001b[0;34m)\u001b[0m \u001b[0;32mand\u001b[0m \u001b[0;34m(\u001b[0m\u001b[0mball_num\u001b[0m \u001b[0;34m==\u001b[0m \u001b[0;36m0\u001b[0m\u001b[0;34m)\u001b[0m\u001b[0;34m:\u001b[0m\u001b[0;34m\u001b[0m\u001b[0;34m\u001b[0m\u001b[0m\n",
      "\u001b[0;32m/var/folders/b_/jzd6dj4x395ckvhxmp7dbtkc0000gn/T/ipykernel_36875/2857116457.py\u001b[0m in \u001b[0;36mcheck_num\u001b[0;34m(in_1, in_2, in_3)\u001b[0m\n\u001b[1;32m     28\u001b[0m         \u001b[0mball_num\u001b[0m \u001b[0;34m+=\u001b[0m\u001b[0;36m1\u001b[0m\u001b[0;34m\u001b[0m\u001b[0;34m\u001b[0m\u001b[0m\n\u001b[1;32m     29\u001b[0m     \u001b[0;32mif\u001b[0m\u001b[0;34m(\u001b[0m\u001b[0min_3\u001b[0m\u001b[0;34m==\u001b[0m\u001b[0mrand_1\u001b[0m\u001b[0;34m)\u001b[0m \u001b[0;32mor\u001b[0m \u001b[0;34m(\u001b[0m\u001b[0min_3\u001b[0m \u001b[0;34m==\u001b[0m \u001b[0mrand_2\u001b[0m\u001b[0;34m)\u001b[0m\u001b[0;34m:\u001b[0m\u001b[0;34m\u001b[0m\u001b[0;34m\u001b[0m\u001b[0m\n\u001b[0;32m---> 30\u001b[0;31m         \u001b[0mball_num\u001b[0m \u001b[0;34m+=\u001b[0m\u001b[0;36m1\u001b[0m\u001b[0;34m\u001b[0m\u001b[0;34m\u001b[0m\u001b[0m\n\u001b[0m\u001b[1;32m     31\u001b[0m \u001b[0;34m\u001b[0m\u001b[0m\n\u001b[1;32m     32\u001b[0m \u001b[0myn\u001b[0m \u001b[0;34m=\u001b[0m \u001b[0minput\u001b[0m\u001b[0;34m(\u001b[0m\u001b[0;34m\"Play game? (y/n)\"\u001b[0m\u001b[0;34m)\u001b[0m\u001b[0;34m\u001b[0m\u001b[0;34m\u001b[0m\u001b[0m\n",
      "\u001b[0;31mUnboundLocalError\u001b[0m: local variable 'ball_num' referenced before assignment"
     ]
    }
   ],
   "source": [
    "import random\n",
    "\n",
    "def generate_nums():\n",
    "    _rand_1 = random.randrange(1,10)\n",
    "    _rand_2 = random.randrange(1,10)\n",
    "    while _rand_1 == _rand_2:\n",
    "        _rand_2 = random.randrange(1,10)\n",
    "    _rand_3 = random.randrange(1,10)\n",
    "    while (_rand_1 == _rand_3) or (_rand_2 == _rand_3):\n",
    "        _rand_3 = random.randrange(1,10)\n",
    "    return _rand_1, _rand_2, _rand_3\n",
    "    \n",
    "    \n",
    "def check_num(in_1, in_2, in_3):\n",
    "    global rand_1, rand_2, rand_3\n",
    "    _strike_num = 0\n",
    "    _ball_num = 0\n",
    "    if in_1 ==rand_1 :\n",
    "        _strike_num += 1\n",
    "    if in_2 ==rand_2 :\n",
    "        _strike_num += 1\n",
    "    if in_3 ==rand_3 :\n",
    "        _strike_num += 1\n",
    "    \n",
    "    if(in_1==rand_2) or (in_1 == rand_2):\n",
    "        _ball_num +=1\n",
    "    if(in_2==rand_1) or (in_2 == rand_3):\n",
    "        ball_num +=1\n",
    "    if(in_3==rand_1) or (in_3 == rand_2):\n",
    "        ball_num +=1\n",
    "\n",
    "yn = input(\"Play game? (y/n)\")\n",
    "\n",
    "while yn == \"y\":\n",
    "    is_continue = True\n",
    "    game_step = 1\n",
    "    rand_1, rand_2, rand_3 = generate_nums()\n",
    "    while is_continue:\n",
    "        print(\"**BASEBALL GAME ... ROUND : {game_step}\")\n",
    "        in_1 = input(\"1st number:\")\n",
    "        in_2 = input(\"2nd number:\")\n",
    "        in_3 = input(\"3rd number:\")\n",
    "        in_1 = int(in_1)\n",
    "        in_2 = int(in_2)\n",
    "        in_3 = int(in_3)\n",
    "        strike_num, ball_num = check_num(in_1,in_2,in_3)\n",
    "        print(\"COMPUTER: \")\n",
    "        if (strike_num == 0) and (ball_num == 0):\n",
    "            print(\"OUT !!!\")\n",
    "        else:\n",
    "            if strike_num >0 :\n",
    "                print(f\"{strike_num} STRIKE!!!\",end(\"\"))\n",
    "            if ball_num >0:\n",
    "                print(f\"{ball_num} BALL!!!\",end(\"\"))\n",
    "                \n",
    "                \n",
    "            if strike_num ==3 :\n",
    "                is_continue = False\n",
    "            \n",
    "        print(\"\")\n",
    "        game_step +=1\n",
    "        if game_step >9:\n",
    "            print(\"User defeat!\")\n",
    "            is_continue = False\n",
    "            \n",
    "        "
   ]
  },
  {
   "cell_type": "code",
   "execution_count": null,
   "id": "7656a155",
   "metadata": {},
   "outputs": [],
   "source": []
  }
 ],
 "metadata": {
  "kernelspec": {
   "display_name": "Python 3 (ipykernel)",
   "language": "python",
   "name": "python3"
  },
  "language_info": {
   "codemirror_mode": {
    "name": "ipython",
    "version": 3
   },
   "file_extension": ".py",
   "mimetype": "text/x-python",
   "name": "python",
   "nbconvert_exporter": "python",
   "pygments_lexer": "ipython3",
   "version": "3.9.7"
  }
 },
 "nbformat": 4,
 "nbformat_minor": 5
}
