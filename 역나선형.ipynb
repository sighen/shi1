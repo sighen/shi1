{
 "cells": [
  {
   "cell_type": "code",
   "execution_count": null,
   "id": "3180df9c",
   "metadata": {},
   "outputs": [],
   "source": [
    "m = input()\n",
    "m= int(m)\n",
    "\n",
    "direction = [1,0]\n",
    "square_m = []\n",
    "for col in range(m):\n",
    "    square_m.append([])\n",
    "    for row in range(m):\n",
    "        square_m[col].append(col *m + row + 1)\n",
    "    \n",
    "    \n",
    "already=[1, ]\n",
    "direction[1,0]\n",
    "now_indx=[0,0]\n",
    "while len(already) < m *m:\n",
    "    already.append(square_m[now_idx[0]][now_indx[1]])\n",
    "    next_indx = [0,0]\n",
    "    next_idx[0] = nnow_idx[0] + direction[0]\n",
    "    next_idx[1] = nnow_idx[1] + direction[1]\n",
    "    \n",
    "    if next_idx[0] <0 or next_idx[0] >=m or\n",
    "       next_idx[1]<0 or next_idx[1]>=m or square_m[next_idx[0][next_idx[1]]]:\n",
    "            if direction[0] == 1 and direction[1] ==0:\n",
    "                direction[0] =0\n",
    "                direction[1] =1\n",
    "            elif direction[0] ==0 and direction[1] ==1:\n",
    "                direction[0] =-1\n",
    "                direction[1] =0\n",
    "            elif direction[0] ==-1 and direction[1] ==0:\n",
    "                direction[0]=0\n",
    "                direction[1]= 1\n",
    "            elif direction[0] ==0 and direction[1] ==-1:\n",
    "                direction[0] =-1\n",
    "                direction[1] =0\n",
    "                \n",
    "                \n",
    "                \n",
    "    "
   ]
  }
 ],
 "metadata": {
  "kernelspec": {
   "display_name": "Python 3 (ipykernel)",
   "language": "python",
   "name": "python3"
  },
  "language_info": {
   "codemirror_mode": {
    "name": "ipython",
    "version": 3
   },
   "file_extension": ".py",
   "mimetype": "text/x-python",
   "name": "python",
   "nbconvert_exporter": "python",
   "pygments_lexer": "ipython3",
   "version": "3.9.7"
  }
 },
 "nbformat": 4,
 "nbformat_minor": 5
}
