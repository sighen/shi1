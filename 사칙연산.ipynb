{
 "cells": [
  {
   "cell_type": "code",
   "execution_count": 5,
   "id": "0dd7c28b",
   "metadata": {},
   "outputs": [
    {
     "name": "stdout",
     "output_type": "stream",
     "text": [
      "첫 번째 숫자를 입력하시오:\n",
      "100\n",
      "두 번째 숫자를 입력하시오:\n",
      "210\n",
      "두 수의 합: 310\n",
      "두 수의 차: -110\n",
      "두 수의 곱: 21000\n",
      "두 수의 나눗셈: 0.47619047619047616\n"
     ]
    }
   ],
   "source": [
    "print(\"첫 번째 숫자를 입력하시오:\")\n",
    "num1 = input()\n",
    "print(\"두 번째 숫자를 입력하시오:\")\n",
    "num2 = input()\n",
    "sum = int(num1)+ int(num2)\n",
    "diff = int(num1)-int(num2)\n",
    "multiply = int(num1)*int(num2)\n",
    "divide = int(num1)/int(num2)\n",
    "print (\"두 수의 합: {0}\".format(sum))\n",
    "print (\"두 수의 차: {0}\".format(diff))\n",
    "print (\"두 수의 곱: {0}\".format(multiply))\n",
    "print (\"두 수의 나눗셈: {0}\".format(divide))\n"
   ]
  },
  {
   "cell_type": "code",
   "execution_count": null,
   "id": "089a9889",
   "metadata": {},
   "outputs": [],
   "source": []
  }
 ],
 "metadata": {
  "kernelspec": {
   "display_name": "Python 3 (ipykernel)",
   "language": "python",
   "name": "python3"
  },
  "language_info": {
   "codemirror_mode": {
    "name": "ipython",
    "version": 3
   },
   "file_extension": ".py",
   "mimetype": "text/x-python",
   "name": "python",
   "nbconvert_exporter": "python",
   "pygments_lexer": "ipython3",
   "version": "3.9.7"
  }
 },
 "nbformat": 4,
 "nbformat_minor": 5
}
