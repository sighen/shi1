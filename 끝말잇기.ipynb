{
 "cells": [
  {
   "cell_type": "code",
   "execution_count": null,
   "id": "a4be5f5e",
   "metadata": {},
   "outputs": [
    {
     "name": "stdout",
     "output_type": "stream",
     "text": [
      "끝말잇기 게임을 시작합니다.\n",
      "첫 단어를 말해주세요: 코딩\n",
      "코딩\n",
      "다음 단어를 말해주세요: 딩가\n",
      "코딩\n",
      "-> 딩가\n",
      "다음 단어를 말해주세요: 가수\n",
      "코딩\n",
      "-> 딩가\n",
      "다음 단어를 말해주세요: 수박\n",
      "코딩\n",
      "-> 딩가\n"
     ]
    }
   ],
   "source": [
    "def check_word(_words, _now_word):\n",
    "    result = True\n",
    "    for i in range(len(_words)):\n",
    "        if _now_word == _words[i]:\n",
    "            print(\"이미 사용한 단어입니다.\")\n",
    "            result = False\n",
    "    if _words[-1][-1] != _now_word[0]:\n",
    "        print(\"끝말이 일치하지 않습니다.\")\n",
    "        result = False\n",
    "    return result\n",
    "\n",
    "print(\"끝말잇기 게임을 시작합니다.\")\n",
    "words = []\n",
    "words.append(input(\"첫 단어를 말해주세요: \"))\n",
    "print(f\"{words[0]}\")\n",
    "\n",
    "is_alive = True\n",
    "while is_alive:\n",
    "    now_input = input(\"다음 단어를 말해주세요: \")\n",
    "    is_alive = check_word(words, now_input)\n",
    "\n",
    "    if check_word(words, now_input):\n",
    "        words.append(now_input)\n",
    "        print(words[0])\n",
    "        for i in range(1,len(now_input)):\n",
    "              print(\"->\", words[i])"
   ]
  },
  {
   "cell_type": "code",
   "execution_count": null,
   "id": "f4cb2de8",
   "metadata": {},
   "outputs": [],
   "source": []
  }
 ],
 "metadata": {
  "kernelspec": {
   "display_name": "Python 3 (ipykernel)",
   "language": "python",
   "name": "python3"
  },
  "language_info": {
   "codemirror_mode": {
    "name": "ipython",
    "version": 3
   },
   "file_extension": ".py",
   "mimetype": "text/x-python",
   "name": "python",
   "nbconvert_exporter": "python",
   "pygments_lexer": "ipython3",
   "version": "3.9.7"
  }
 },
 "nbformat": 4,
 "nbformat_minor": 5
}
