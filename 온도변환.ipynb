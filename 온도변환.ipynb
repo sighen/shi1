{
 "cells": [
  {
   "cell_type": "code",
   "execution_count": 7,
   "id": "d7511117",
   "metadata": {},
   "outputs": [
    {
     "name": "stdout",
     "output_type": "stream",
     "text": [
      "화씨 온도를 입력하세요:\n",
      "17\n",
      "화씨 온도 17 는 섭씨 온도 -8.33 입니다.\n",
      "섭씨 온도를 입력하세요:\n",
      "26\n",
      "섭씨 온도 26 는 화씨 온도 78.8 입니다.\n"
     ]
    }
   ],
   "source": [
    "print (\"화씨 온도를 입력하세요:\")\n",
    "temp_f = input()\n",
    "print(\"화씨 온도\",temp_f,\"는 섭씨 온도\",round(((float(temp_f)-32)/1.8),2),\"입니다.\")\n",
    "\n",
    "print (\"섭씨 온도를 입력하세요:\")\n",
    "temp_c = input()\n",
    "print(\"섭씨 온도\",temp_c,\"는 화씨 온도\",round(((float(temp_c)*1.8)+32),2),\"입니다.\")"
   ]
  }
 ],
 "metadata": {
  "kernelspec": {
   "display_name": "Python 3 (ipykernel)",
   "language": "python",
   "name": "python3"
  },
  "language_info": {
   "codemirror_mode": {
    "name": "ipython",
    "version": 3
   },
   "file_extension": ".py",
   "mimetype": "text/x-python",
   "name": "python",
   "nbconvert_exporter": "python",
   "pygments_lexer": "ipython3",
   "version": "3.9.7"
  }
 },
 "nbformat": 4,
 "nbformat_minor": 5
}
