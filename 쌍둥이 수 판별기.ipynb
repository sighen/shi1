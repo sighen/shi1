{
 "cells": [
  {
   "cell_type": "code",
   "execution_count": 3,
   "id": "8d0118b6",
   "metadata": {},
   "outputs": [
    {
     "name": "stdout",
     "output_type": "stream",
     "text": [
      "n: 12456\n",
      "n(12456)은 12345와 쌍둥이가 아니며, 포함되지 않은 숫자들은 {'6'}입니다.\n"
     ]
    }
   ],
   "source": [
    "input_n = input(\"n: \")\n",
    "def check_n(_input_n):\n",
    "    _input_n = set(_input_n)\n",
    "    result = set()\n",
    "    for i in _input_n:\n",
    "        if i not in set(\"12345\"):\n",
    "            result.add(i)\n",
    "    return result\n",
    "\n",
    "not_in_num = check_n(input_n)\n",
    "if len(not_in_num) ==0:\n",
    "    print(f\"n({input_n})은 12345와 쌍둥이입니다.\")\n",
    "else:\n",
    "    print(f\"n({input_n})은 12345와 쌍둥이가 아니며, 포함되지 않은 숫자들은 {not_in_num}입니다.\")"
   ]
  }
 ],
 "metadata": {
  "kernelspec": {
   "display_name": "Python 3 (ipykernel)",
   "language": "python",
   "name": "python3"
  },
  "language_info": {
   "codemirror_mode": {
    "name": "ipython",
    "version": 3
   },
   "file_extension": ".py",
   "mimetype": "text/x-python",
   "name": "python",
   "nbconvert_exporter": "python",
   "pygments_lexer": "ipython3",
   "version": "3.9.7"
  }
 },
 "nbformat": 4,
 "nbformat_minor": 5
}
