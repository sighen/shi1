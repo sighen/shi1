{
 "cells": [
  {
   "cell_type": "code",
   "execution_count": null,
   "id": "26a28609",
   "metadata": {},
   "outputs": [],
   "source": [
    "one_count = 0\n",
    "input_n = \n",
    "\n",
    "input_n = int(input_n)\n",
    "\n",
    "for i in range(input_n +1):\n",
    "    str_i = str(i)\n",
    "    for k in range(len(str_i)):\n",
    "        if str_i[k] == '1':\n",
    "            one_count +=1\n",
    "print(one_count)"
   ]
  },
  {
   "cell_type": "code",
   "execution_count": null,
   "id": "2f6a4689",
   "metadata": {},
   "outputs": [],
   "source": []
  }
 ],
 "metadata": {
  "kernelspec": {
   "display_name": "Python 3 (ipykernel)",
   "language": "python",
   "name": "python3"
  },
  "language_info": {
   "codemirror_mode": {
    "name": "ipython",
    "version": 3
   },
   "file_extension": ".py",
   "mimetype": "text/x-python",
   "name": "python",
   "nbconvert_exporter": "python",
   "pygments_lexer": "ipython3",
   "version": "3.9.7"
  }
 },
 "nbformat": 4,
 "nbformat_minor": 5
}
