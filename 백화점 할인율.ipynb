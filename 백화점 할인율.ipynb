{
 "cells": [
  {
   "cell_type": "code",
   "execution_count": 4,
   "id": "2e773420",
   "metadata": {},
   "outputs": [
    {
     "name": "stdout",
     "output_type": "stream",
     "text": [
      "원피스 몇 벌을 구매하시나요?\n",
      "1\n",
      "스웨터 몇 벌을 구매하시나요?\n",
      "1\n",
      "최종 금액은 7.6 만원 입니다.\n"
     ]
    }
   ],
   "source": [
    "print(\"원피스 몇 벌을 구매하시나요?\")\n",
    "dress = input()\n",
    "print(\"스웨터 몇 벌을 구매하시나요?\")\n",
    "sweater = input()\n",
    "initial = int(dress)*5+int(sweater)*3\n",
    "if  initial < 10 :\n",
    "    final = initial * 95 / 100\n",
    "elif initial > 10 and initial < 20 :\n",
    "    final = initial * 90 /100\n",
    "elif  initial > 20 :\n",
    "    final = initial * 80 /100\n",
    "    \n",
    "print (\"최종 금액은\", final, \"만원 입니다.\")"
   ]
  },
  {
   "cell_type": "code",
   "execution_count": null,
   "id": "e5c24ce1",
   "metadata": {},
   "outputs": [],
   "source": []
  },
  {
   "cell_type": "code",
   "execution_count": null,
   "id": "74603887",
   "metadata": {},
   "outputs": [],
   "source": []
  }
 ],
 "metadata": {
  "kernelspec": {
   "display_name": "Python 3 (ipykernel)",
   "language": "python",
   "name": "python3"
  },
  "language_info": {
   "codemirror_mode": {
    "name": "ipython",
    "version": 3
   },
   "file_extension": ".py",
   "mimetype": "text/x-python",
   "name": "python",
   "nbconvert_exporter": "python",
   "pygments_lexer": "ipython3",
   "version": "3.9.7"
  }
 },
 "nbformat": 4,
 "nbformat_minor": 5
}
