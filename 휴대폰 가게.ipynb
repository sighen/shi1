{
 "cells": [
  {
   "cell_type": "code",
   "execution_count": null,
   "id": "342a09f8",
   "metadata": {},
   "outputs": [],
   "source": [
    "item_dict = {\n",
    "    \"아이폰6\": (3, 3),\n",
    "    \"갤럭시7\": (5, 4),\n",
    "    \"갤노트7\": (2, 1),\n",
    "    \"V20\": (4, 4)\n",
    "}\n",
    "\n",
    "for key, item in item_dict.items():\n",
    "    if item[0]>=4 and item[1]>=4:\n",
    "        print(f\"우수 제품: {key} 판매실적: {item[0]} \n",
    "              고객 평가: {item[1]}\"        )\n",
    "    "
   ]
  }
 ],
 "metadata": {
  "kernelspec": {
   "display_name": "Python 3 (ipykernel)",
   "language": "python",
   "name": "python3"
  },
  "language_info": {
   "codemirror_mode": {
    "name": "ipython",
    "version": 3
   },
   "file_extension": ".py",
   "mimetype": "text/x-python",
   "name": "python",
   "nbconvert_exporter": "python",
   "pygments_lexer": "ipython3",
   "version": "3.9.7"
  }
 },
 "nbformat": 4,
 "nbformat_minor": 5
}
