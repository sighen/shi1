{
 "cells": [
  {
   "cell_type": "code",
   "execution_count": 9,
   "id": "d370a206",
   "metadata": {
    "scrolled": false
   },
   "outputs": [
    {
     "name": "stdout",
     "output_type": "stream",
     "text": [
      "숫자를 입력하시오:\n",
      "3\n",
      "숫자를 입력하시오:\n",
      "5\n",
      "숫자를 입력하시오:\n",
      "0\n",
      "8\n"
     ]
    }
   ],
   "source": [
    "sum =0\n",
    "while True:\n",
    "    print(\"숫자를 입력하시오:\")\n",
    "    n = int(input())\n",
    "    sum+=n\n",
    "    if n==0:\n",
    "     break\n",
    "    \n",
    "print(sum)"
   ]
  },
  {
   "cell_type": "code",
   "execution_count": null,
   "id": "8462f46e",
   "metadata": {},
   "outputs": [],
   "source": []
  }
 ],
 "metadata": {
  "kernelspec": {
   "display_name": "Python 3 (ipykernel)",
   "language": "python",
   "name": "python3"
  },
  "language_info": {
   "codemirror_mode": {
    "name": "ipython",
    "version": 3
   },
   "file_extension": ".py",
   "mimetype": "text/x-python",
   "name": "python",
   "nbconvert_exporter": "python",
   "pygments_lexer": "ipython3",
   "version": "3.9.7"
  }
 },
 "nbformat": 4,
 "nbformat_minor": 5
}
