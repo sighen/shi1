{
 "cells": [
  {
   "cell_type": "code",
   "execution_count": 1,
   "id": "eaf1575c",
   "metadata": {},
   "outputs": [
    {
     "name": "stdout",
     "output_type": "stream",
     "text": [
      "숫자를 입력하세요:50\n",
      "up\n",
      "숫자를 입력하세요:75\n",
      "down\n",
      "숫자를 입력하세요:70\n",
      "down\n",
      "숫자를 입력하세요:60\n",
      "down\n",
      "숫자를 입력하세요:55\n",
      "up\n",
      "숫자를 입력하세요:56\n",
      "up\n",
      "숫자를 입력하세요:57\n",
      "success\n"
     ]
    }
   ],
   "source": [
    "import random\n",
    "N = random.randrange(1,100)\n",
    "n =0 \n",
    "while N != n :\n",
    "    n = int(input(\"숫자를 입력하세요:\"))\n",
    "    \n",
    "    if n > N :\n",
    "        print(\"down\")\n",
    "    elif n < N :\n",
    "        print(\"up\")\n",
    "        \n",
    "\n",
    "print(\"success\")"
   ]
  },
  {
   "cell_type": "code",
   "execution_count": 2,
   "id": "0ab23584",
   "metadata": {},
   "outputs": [],
   "source": [
    "import random\n",
    "\n",
    "def check_num(user_in):\n",
    "    global rand_num\n",
    "    if rand_num == user_in:\n",
    "        print (\"success\")\n",
    "    elif rand_num > user_in:\n",
    "        print(\"up\")\n",
    "    else:\n",
    "        print(\"down\")\n",
    "        \n",
    "print(\"Game start!\")\n",
    "rand_num = random.randrange(1.100)\n",
    "\n",
    "user_in = int(input())\n",
    "\n",
    "while user_in != rand_num:\n",
    "    check_num(user_in)\n",
    "    user_in = int(input())"
   ]
  },
  {
   "cell_type": "code",
   "execution_count": null,
   "id": "44fd61ff",
   "metadata": {},
   "outputs": [],
   "source": []
  }
 ],
 "metadata": {
  "kernelspec": {
   "display_name": "Python 3 (ipykernel)",
   "language": "python",
   "name": "python3"
  },
  "language_info": {
   "codemirror_mode": {
    "name": "ipython",
    "version": 3
   },
   "file_extension": ".py",
   "mimetype": "text/x-python",
   "name": "python",
   "nbconvert_exporter": "python",
   "pygments_lexer": "ipython3",
   "version": "3.9.7"
  }
 },
 "nbformat": 4,
 "nbformat_minor": 5
}
