{
 "cells": [
  {
   "cell_type": "code",
   "execution_count": 3,
   "id": "77457ceb",
   "metadata": {},
   "outputs": [
    {
     "name": "stdout",
     "output_type": "stream",
     "text": [
      "첫번째 직선, 첫번째 점의 x좌표: 12\n",
      "첫번째 직선, 첫번째 점의 y좌표: 24\n",
      "첫번째 직선, 두번째 점의 x좌표: 25\n",
      "첫번째 직선, 두번째 점의 y좌표: 50\n",
      "두번째 직선, 첫번째 점의 x좌표: 28\n",
      "두번째 직선, 첫번째 점의 y좌표: 56\n",
      "두번째 직선, 두번째 점의 x좌표: 50\n",
      "두번째 직선, 두번째 점의 y좌표: 100\n",
      "두 직선은 평행합니다.\n"
     ]
    }
   ],
   "source": [
    "x1 = input(\"첫번째 직선, 첫번째 점의 x좌표: \")\n",
    "y1 = input(\"첫번째 직선, 첫번째 점의 y좌표: \")\n",
    "x2 = input(\"첫번째 직선, 두번째 점의 x좌표: \")\n",
    "y2 = input(\"첫번째 직선, 두번째 점의 y좌표: \")\n",
    "x3 = input(\"두번째 직선, 첫번째 점의 x좌표: \")\n",
    "y3 = input(\"두번째 직선, 첫번째 점의 y좌표: \")\n",
    "x4 = input(\"두번째 직선, 두번째 점의 x좌표: \")\n",
    "y4 = input(\"두번째 직선, 두번째 점의 y좌표: \")\n",
    "\n",
    "m1 = (int(y2)-int(y1))/(int(x2)-int(x1))\n",
    "m2 = (int(y4)-int(y3))/(int(x4)-int(x3))\n",
    "\n",
    "if m1==m2 or m1 == -1 * m2:\n",
    "    print(\"두 직선은 평행합니다.\")\n",
    "else:\n",
    "    print(\"두 직선은 평행하지 않습니다.\")"
   ]
  },
  {
   "cell_type": "code",
   "execution_count": null,
   "id": "7faf4137",
   "metadata": {},
   "outputs": [],
   "source": []
  }
 ],
 "metadata": {
  "kernelspec": {
   "display_name": "Python 3 (ipykernel)",
   "language": "python",
   "name": "python3"
  },
  "language_info": {
   "codemirror_mode": {
    "name": "ipython",
    "version": 3
   },
   "file_extension": ".py",
   "mimetype": "text/x-python",
   "name": "python",
   "nbconvert_exporter": "python",
   "pygments_lexer": "ipython3",
   "version": "3.9.7"
  }
 },
 "nbformat": 4,
 "nbformat_minor": 5
}
