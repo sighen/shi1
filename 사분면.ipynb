{
 "cells": [
  {
   "cell_type": "code",
   "execution_count": 1,
   "id": "9c2deced",
   "metadata": {},
   "outputs": [
    {
     "name": "stdout",
     "output_type": "stream",
     "text": [
      "2차원 공간의 좌표의 x값을 입력하시오:3\n",
      "2차원 공간의 좌표의 y값을 입력하시오:6\n",
      "1 사분면에 속합니다.\n",
      "2 사분면에 속하지 않습니다.\n",
      "3 사분면에 속하지 않습니다.\n",
      "4 사분면에 속하지 않습니다.\n"
     ]
    }
   ],
   "source": [
    "x = input(\"2차원 공간의 좌표의 x값을 입력하시오:\")\n",
    "y = input(\"2차원 공간의 좌표의 y값을 입력하시오:\")\n",
    "\n",
    "x = int(x)\n",
    "y = int(y)\n",
    "\n",
    "if x>0 and y>0 :\n",
    "    print(\"1 사분면에 속합니다.\")\n",
    "else:\n",
    "    print(\"1 사분면에 속하지 않습니다.\")\n",
    "    \n",
    "if x<0 and y>0 :\n",
    "    print(\"2 사분면에 속합니다.\")\n",
    "else:\n",
    "    print(\"2 사분면에 속하지 않습니다.\")\n",
    "    \n",
    "if x<0 and y<0 :\n",
    "    print(\"3 사분면에 속합니다.\")\n",
    "else:\n",
    "    print(\"3 사분면에 속하지 않습니다.\")\n",
    "    \n",
    "if x>0 and y<0 :\n",
    "    print(\"4 사분면에 속합니다.\")\n",
    "else:\n",
    "    print(\"4 사분면에 속하지 않습니다.\")\n",
    "  "
   ]
  },
  {
   "cell_type": "code",
   "execution_count": null,
   "id": "a3e3843a",
   "metadata": {},
   "outputs": [],
   "source": []
  }
 ],
 "metadata": {
  "kernelspec": {
   "display_name": "Python 3 (ipykernel)",
   "language": "python",
   "name": "python3"
  },
  "language_info": {
   "codemirror_mode": {
    "name": "ipython",
    "version": 3
   },
   "file_extension": ".py",
   "mimetype": "text/x-python",
   "name": "python",
   "nbconvert_exporter": "python",
   "pygments_lexer": "ipython3",
   "version": "3.9.7"
  }
 },
 "nbformat": 4,
 "nbformat_minor": 5
}
