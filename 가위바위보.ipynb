{
 "cells": [
  {
   "cell_type": "code",
   "execution_count": 8,
   "id": "1d43e9bc",
   "metadata": {},
   "outputs": [
    {
     "name": "stdout",
     "output_type": "stream",
     "text": [
      "첫 번째 사람: 0\n",
      "두 번째 사람: 2\n",
      "첫 번째 사람:  바위\n",
      "두 번째 사람:  가위\n",
      "첫 번째 사람이 이겼습니다.\n"
     ]
    }
   ],
   "source": [
    "\n",
    "game_option = [\"바위\", \"보\", \"가위\"]\n",
    "\n",
    "user1 = int(input(\"첫 번째 사람: \"))\n",
    "user2 = int(input(\"두 번째 사람: \"))\n",
    "\n",
    "print(\"첫 번째 사람: \", game_option[user1])\n",
    "print(\"두 번째 사람: \", game_option[user2])\n",
    "\n",
    "if user1 == user2 :\n",
    "    print(\"비겼습니다.\")\n",
    "elif user1 - user2 == 1 or (user1 == 0 and user2 == 2):\n",
    "    print(\"첫 번째 사람이 이겼습니다.\")\n",
    "else:\n",
    "    print(\"두 번째 사람이 이겼습니다.\")"
   ]
  },
  {
   "cell_type": "code",
   "execution_count": null,
   "id": "3809f30e",
   "metadata": {},
   "outputs": [],
   "source": []
  }
 ],
 "metadata": {
  "kernelspec": {
   "display_name": "Python 3 (ipykernel)",
   "language": "python",
   "name": "python3"
  },
  "language_info": {
   "codemirror_mode": {
    "name": "ipython",
    "version": 3
   },
   "file_extension": ".py",
   "mimetype": "text/x-python",
   "name": "python",
   "nbconvert_exporter": "python",
   "pygments_lexer": "ipython3",
   "version": "3.9.7"
  }
 },
 "nbformat": 4,
 "nbformat_minor": 5
}
