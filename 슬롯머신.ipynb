{
 "cells": [
  {
   "cell_type": "code",
   "execution_count": null,
   "id": "cf5d88a8",
   "metadata": {},
   "outputs": [],
   "source": [
    "import random\n",
    "\n",
    "def generate_numbers()\n",
    "   tmp=[]\n",
    "    for i in range(3):\n",
    "        tmp.append(random.randrange(0,10))\n",
    "    return tmp[0],tmp[1],tmp[2]\n",
    "\n",
    "def check_numbers(tmp[0],tmp[1],tmp[2])\n",
    "    if tmp[0]==tmp[1] and tmp[1]==tmp[2]:\n",
    "        score= 2\n",
    "    elif tmp[0]==tmp[1] or tmp[0]==tmp[2] or tmp[1]==tmp[2]:\n",
    "        score= 1\n",
    "    else:\n",
    "        score =0\n",
    "    return score\n",
    "\n"
   ]
  },
  {
   "cell_type": "code",
   "execution_count": null,
   "id": "7979def4",
   "metadata": {},
   "outputs": [],
   "source": []
  }
 ],
 "metadata": {
  "kernelspec": {
   "display_name": "Python 3 (ipykernel)",
   "language": "python",
   "name": "python3"
  },
  "language_info": {
   "codemirror_mode": {
    "name": "ipython",
    "version": 3
   },
   "file_extension": ".py",
   "mimetype": "text/x-python",
   "name": "python",
   "nbconvert_exporter": "python",
   "pygments_lexer": "ipython3",
   "version": "3.9.7"
  }
 },
 "nbformat": 4,
 "nbformat_minor": 5
}
