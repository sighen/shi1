{
 "cells": [
  {
   "cell_type": "code",
   "execution_count": 5,
   "id": "d1edba1d",
   "metadata": {},
   "outputs": [
    {
     "name": "stdout",
     "output_type": "stream",
     "text": [
      "숫자를 입력하시오:3\n",
      "2^0부터 2^ 3 까지의 합은 15 입니다.\n"
     ]
    }
   ],
   "source": [
    "aa = int(input(\"숫자를 입력하시오:\"))\n",
    "\n",
    "sum=0\n",
    "\n",
    "for i in range(0,aa+1,1):\n",
    "    sum+= 2**i\n",
    "    \n",
    "print(\"2^0부터 2^\",aa,\"까지의 합은\",sum,\"입니다.\")\n",
    "    "
   ]
  },
  {
   "cell_type": "code",
   "execution_count": null,
   "id": "4082c93c",
   "metadata": {},
   "outputs": [],
   "source": []
  }
 ],
 "metadata": {
  "kernelspec": {
   "display_name": "Python 3 (ipykernel)",
   "language": "python",
   "name": "python3"
  },
  "language_info": {
   "codemirror_mode": {
    "name": "ipython",
    "version": 3
   },
   "file_extension": ".py",
   "mimetype": "text/x-python",
   "name": "python",
   "nbconvert_exporter": "python",
   "pygments_lexer": "ipython3",
   "version": "3.9.7"
  }
 },
 "nbformat": 4,
 "nbformat_minor": 5
}
