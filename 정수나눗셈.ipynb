{
 "cells": [
  {
   "cell_type": "code",
   "execution_count": 1,
   "id": "511c0efc",
   "metadata": {},
   "outputs": [
    {
     "ename": "SyntaxError",
     "evalue": "EOL while scanning string literal (2310977387.py, line 7)",
     "output_type": "error",
     "traceback": [
      "\u001b[0;36m  File \u001b[0;32m\"/var/folders/b_/jzd6dj4x395ckvhxmp7dbtkc0000gn/T/ipykernel_33049/2310977387.py\"\u001b[0;36m, line \u001b[0;32m7\u001b[0m\n\u001b[0;31m    print(f\"{aa}/{bb}의 몫은 {aa//bb} 입니다.\"\")\u001b[0m\n\u001b[0m                                          ^\u001b[0m\n\u001b[0;31mSyntaxError\u001b[0m\u001b[0;31m:\u001b[0m EOL while scanning string literal\n"
     ]
    }
   ],
   "source": [
    "aa = input(\"첫 번째 정수를 입력하시오:\")\n",
    "bb = input(\"두 번째 정수를 입력하시오:\")\n",
    "\n",
    "aa = int(aa)\n",
    "bb = int(bb)\n",
    "\n",
    "print(f\"{aa}/ {bb} 의 몫은 {aa//bb} 입니다.\"\")\n",
    "print(f\" {aa}/{bb} 의 나머지는 {aa%bb} 입니다.\"\")\n",
    "      "
   ]
  },
  {
   "cell_type": "code",
   "execution_count": null,
   "id": "6def8eed",
   "metadata": {},
   "outputs": [],
   "source": []
  }
 ],
 "metadata": {
  "kernelspec": {
   "display_name": "Python 3 (ipykernel)",
   "language": "python",
   "name": "python3"
  },
  "language_info": {
   "codemirror_mode": {
    "name": "ipython",
    "version": 3
   },
   "file_extension": ".py",
   "mimetype": "text/x-python",
   "name": "python",
   "nbconvert_exporter": "python",
   "pygments_lexer": "ipython3",
   "version": "3.9.7"
  }
 },
 "nbformat": 4,
 "nbformat_minor": 5
}
